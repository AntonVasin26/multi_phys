{
 "cells": [
  {
   "cell_type": "code",
   "execution_count": 36,
   "id": "94630061",
   "metadata": {},
   "outputs": [],
   "source": [
    "import math\n",
    "import numpy as np\n",
    "import xml.etree.ElementTree as ET\n",
    "import scipy.optimize as scpo"
   ]
  },
  {
   "cell_type": "markdown",
   "id": "55c0dbee",
   "metadata": {},
   "source": [
    "# Задание 1 - (испарение капли)\n",
    "## Выполнил Васин Антон\n",
    "## Вариант 12"
   ]
  },
  {
   "cell_type": "markdown",
   "id": "2664810c",
   "metadata": {},
   "source": [
    "### 1)Считывание файла"
   ]
  },
  {
   "cell_type": "code",
   "execution_count": 37,
   "id": "839593ca",
   "metadata": {},
   "outputs": [],
   "source": [
    "input_file = open(\"input.txt\", 'r', encoding=\"utf-8\")\n",
    "data = input_file.readlines()\n",
    "input_file.close()"
   ]
  },
  {
   "cell_type": "markdown",
   "id": "3f053d16",
   "metadata": {},
   "source": [
    "### Присваивание параметров"
   ]
  },
  {
   "cell_type": "code",
   "execution_count": 38,
   "id": "21fa23a9",
   "metadata": {},
   "outputs": [
    {
     "name": "stdout",
     "output_type": "stream",
     "text": [
      "239.81\n",
      "254.90860230810287\n"
     ]
    }
   ],
   "source": [
    "R = 8.314\n",
    "N_a = 6.022e23\n",
    "k_b = 1.380649e-23;\n",
    "    \n",
    "#NH3\n",
    "#При нормальных условиях\n",
    "ro_fluid = float(data[2])\n",
    "T_boil = float(data[4])\n",
    "print(T_boil)\n",
    "H_vap = float(data[6])\n",
    "M = float(data[8])\n",
    "\n",
    "#При P = 2атм условиях\n",
    "T_boil = 1/((1/T_boil)-((R*math.log(2))/(H_vap*M)))\n",
    "print(T_boil)\n",
    "    \n",
    "# Атмосфера\n",
    "lambda_g1 = float(data[12])\n",
    "lambda_g2 = float(data[14])\n",
    "T = float(data[16])\n",
    "P = float(data[18])\n",
    "M_a = float(data[20])\n",
    "C_p = float(data[22])\n",
    "X_inf = float(data[24])\n",
    "\n",
    "# Diameter\n",
    "D = float(data[27])\n",
    "Dif = float(data[29])"
   ]
  },
  {
   "cell_type": "code",
   "execution_count": 39,
   "id": "a0142474",
   "metadata": {},
   "outputs": [
    {
     "name": "stdout",
     "output_type": "stream",
     "text": [
      "ro_fluid = 681.4\n",
      "T_boil = 254.9\n",
      "H_vap = 1370000.0\n",
      "M = 0.0170306\n",
      "lambda_g1 = 0.0421\n",
      "lambda_g2 = 0.056\n",
      "T = 523.15\n",
      "P = 202650.0\n",
      "M_a = 0.02898\n",
      "C_p = 1034.0\n",
      "X_inf = 0.1\n",
      "D = 0.008\n",
      "Dif = 3e-05\n"
     ]
    }
   ],
   "source": [
    "print(\"ro_fluid =\",ro_fluid)\n",
    "print(\"T_boil =\",round(T_boil, 1))\n",
    "print(\"H_vap =\",H_vap)\n",
    "print(\"M =\",M)\n",
    "print(\"lambda_g1 =\",lambda_g1)\n",
    "print(\"lambda_g2 =\",lambda_g2)\n",
    "print(\"T =\",T)\n",
    "print(\"P =\",P)\n",
    "print(\"M_a =\",M_a)\n",
    "print(\"C_p =\",C_p)\n",
    "print(\"X_inf =\",X_inf)\n",
    "print(\"D =\",D)\n",
    "print(\"Dif =\",Dif)"
   ]
  },
  {
   "cell_type": "markdown",
   "id": "9d97d7a6",
   "metadata": {},
   "source": [
    "### 2)Вычисление Основных велечин в начальный момент"
   ]
  },
  {
   "cell_type": "code",
   "execution_count": 40,
   "id": "635b9ef1",
   "metadata": {},
   "outputs": [
    {
     "name": "stdout",
     "output_type": "stream",
     "text": [
      "Y_inf = 0.06129\n"
     ]
    }
   ],
   "source": [
    "V = math.pi * D ** 3 / 2.0 / 3.0\n",
    "S = math.pi * D ** 2\n",
    "m = ro_fluid * V\n",
    "mols = m / M\n",
    "P_vapor_inf = P * X_inf\n",
    "Y_inf = (X_inf*M)/(X_inf*M + (1.0 - X_inf)*M_a)\n",
    "print(\"Y_inf =\", round(Y_inf, 5))"
   ]
  },
  {
   "cell_type": "markdown",
   "id": "ef86538d",
   "metadata": {},
   "source": [
    "### 3)Вычисление параметров на поверхности"
   ]
  },
  {
   "cell_type": "code",
   "execution_count": 41,
   "id": "36c7b9b7",
   "metadata": {},
   "outputs": [
    {
     "name": "stdout",
     "output_type": "stream",
     "text": [
      "T_w = 232.0172 K\n",
      "X_w = 0.3375\n",
      "Y_w = 0.2304\n",
      "P_w = 68393.94807\n",
      "dm_dt_S = 0.002226203927303512\n",
      "ro_w = 2.6208159275730236\n",
      "v_w = 0.0008494316231377083\n",
      "dm_dt = 4.476048578182054e-07\n"
     ]
    }
   ],
   "source": [
    "def T_w_equation(T_w):\n",
    "    X_w = math.exp((H_vap * M / R) * (1.0 / T_boil - 1.0 / T_w))\n",
    "    Y_w = (X_w*M)/(X_w*M + (1.0 - X_w)*M_a)\n",
    "    return T - (H_vap/C_p)*((Y_w - Y_inf)/(1.0 - Y_w)) - T_w\n",
    "\n",
    "T_w= scpo.fsolve(T_w_equation, T_boil - 1)[0]\n",
    "X_w = math.exp((H_vap * M / R) * (1.0 / T_boil - 1.0 / T_w))\n",
    "Y_w = (X_w*M)/(X_w*M + (1.0 - X_w)*M_a)\n",
    "P_w = P * X_w\n",
    "\n",
    "mu = M*X_w + M_a*(1 - X_w)\n",
    "ro_w = (P * mu) / (R * T_w)\n",
    "lambda_g = (lambda_g2**X_w)*(lambda_g1**(1-X_w))\n",
    "dm_dt_S = lambda_g / (C_p * (D/2.0)) * math.log(1.0 + C_p * (T - T_w)/ H_vap )\n",
    "v_w = dm_dt_S/ro_w\n",
    "dm_dt = dm_dt_S * S\n",
    "\n",
    "print('T_w =', round(T_w, 5), \"K\")\n",
    "print('X_w =', round(X_w, 5))\n",
    "print('Y_w =', round(Y_w, 5))\n",
    "print('P_w =', round(P_w, 5))\n",
    "print('dm_dt_S =', dm_dt_S)\n",
    "print('ro_w =', ro_w)\n",
    "print('v_w =', v_w)\n",
    "print('dm_dt =', dm_dt)"
   ]
  },
  {
   "cell_type": "markdown",
   "id": "2a8a04f0",
   "metadata": {},
   "source": [
    "### Время испарения капли"
   ]
  },
  {
   "cell_type": "code",
   "execution_count": 42,
   "id": "2bfdf2ed",
   "metadata": {},
   "outputs": [
    {
     "name": "stdout",
     "output_type": "stream",
     "text": [
      "t_0 = 612.1631461007664\n"
     ]
    }
   ],
   "source": [
    "t_0 = ro_fluid * C_p * (D / 2.0) ** 2 / 2 / lambda_g / math.log(1 + C_p / H_vap * (T - T_w))\n",
    "print('t_0 =', t_0)"
   ]
  },
  {
   "cell_type": "markdown",
   "id": "b15d04f1",
   "metadata": {},
   "source": [
    "### 4)Запись параметров поверхности в файл"
   ]
  },
  {
   "cell_type": "code",
   "execution_count": 43,
   "id": "7d6792ca",
   "metadata": {},
   "outputs": [],
   "source": [
    "    L = [f\"Температура поверхности 𝑇𝑤 [K]\\n\\t{ round(T_w, 4)}\\n\",\n",
    "         f\"Мольная доля пара на поверхности 𝑋𝑤\\n\\t{round(X_w, 6)}\\n\",\n",
    "         f\"Массовая доля пара на поверхности 𝑌𝑤\\n\\t{round(Y_w, 6)}\\n\",\n",
    "         f\"Плотность газа на поверхности 𝜌𝑤 [кг/м3]\\n\\t{round(ro_w, 2)}\\n\",\n",
    "         f\"Скорость пара на поверхности 𝑣𝑤 [мм/с]\\n\\t{round(v_w, 12) * 1000}\\n\",\n",
    "         f\"Удельный массовый поток с единицы поверхности [г/см^2·с]\\n\\t{round(dm_dt_S, 14) / 10}\\n\",\n",
    "         f\"Массовая скорость испарения в начальный момент времени [г/с]\\n\\t{round(dm_dt, 17) * 1000}\\n\",\n",
    "         f\"Время полного испарения капли 𝑡0 [c]\\n\\t{round(t_0, 2)}\\n\",\n",
    "        f\"Теплопроводность смеси у поверхности [вт/м*K]]\\n\\t{round(lambda_g, 5)}\\n\"]\n",
    "    output_file = open(\"output_1.txt\", 'w', encoding=\"utf-8\")\n",
    "    output_file.writelines(L)\n",
    "    output_file.close()"
   ]
  },
  {
   "cell_type": "markdown",
   "id": "d5efb675",
   "metadata": {},
   "source": [
    "### 5)Вычисление радиальных зависимостей"
   ]
  },
  {
   "cell_type": "code",
   "execution_count": 44,
   "id": "a5fb3534",
   "metadata": {},
   "outputs": [
    {
     "name": "stdout",
     "output_type": "stream",
     "text": [
      "0.09715350912971343\n",
      "0.09214206068762376\n",
      "2.620815927573026\n",
      "1.3269552861963023\n",
      "Плотность сильно меняется от радиуса поэтому считать зависимость Мольной доли от радиуса анологичной Температуре неверно\n"
     ]
    }
   ],
   "source": [
    "N = 1900\n",
    "R_max = D / 2.0 * 20.0\n",
    "r = np.linspace(D / 2.0, R_max, N+1)\n",
    "B = C_p * dm_dt_S * (D / 2.0) ** 2 / lambda_g\n",
    "C_1 = (T - T_w) / (1 - math.exp(- 2 * B / D))\n",
    "T_r = C_1 * np.exp(- B / r) + T - C_1\n",
    "\n",
    "##Старый метод\n",
    "Y_r = (Y_inf + C_p / H_vap * (T - T_r)) / (1.0 + C_p / H_vap * (T - T_r))\n",
    "print(Y_r[500])\n",
    "\n",
    "##Новый метод\n",
    "##1.34 - плотность воздуха\n",
    "##Dif - коэффициент дифузии в чистом воздухе\n",
    "B_1 = (dm_dt_S * (D / 2.0) ** 2) / (1.34*Dif)\n",
    "C_1_1 = (Y_inf - Y_w) / (1 - math.exp(- 2 * B_1 / D))\n",
    "Y_r = C_1_1 * np.exp(- B_1 / r) + Y_inf - C_1_1\n",
    "print(Y_r[500])\n",
    "\n",
    "a = (ro_w * v_w * D**2)/ 4.0\n",
    "X_r = Y_r / (M * (Y_r / M + (1.0 - Y_r) / M_a))\n",
    "mu = (X_r * M + (1.0 - X_r) * M_a)\n",
    "ro_r = P * mu / (T_r * R)\n",
    "\n",
    "print(ro_r[0])\n",
    "print(ro_r[-1])\n",
    "print(\"Плотность сильно меняется от радиуса поэтому считать зависимость Мольной доли от радиуса анологичной Температуре неверно\")\n",
    "v_g_r = (a) / (ro_r * (r**2))\n",
    "r = r*1000\n",
    "v_g_r = v_g_r*10**3"
   ]
  },
  {
   "cell_type": "markdown",
   "id": "72c9aa30",
   "metadata": {},
   "source": [
    "### 6)Запись в файл радиальных зависимостей"
   ]
  },
  {
   "cell_type": "code",
   "execution_count": 45,
   "id": "7aa8e50c",
   "metadata": {},
   "outputs": [],
   "source": [
    "L_r = [\"r[mm], Y_v[-], T_g[K], V_g[mkm/s]\\n\"] + [f\"{r[i]}, {Y_r[i]}, {T_r[i]}, {v_g_r[i]}\\n\" for i in range(N+1)]\n",
    "output_file_r = open(\"output_r.txt\", 'w', encoding=\"utf-8\")\n",
    "output_file_r.writelines(L_r)\n",
    "output_file_r.close()"
   ]
  },
  {
   "cell_type": "code",
   "execution_count": null,
   "id": "6f5348aa",
   "metadata": {},
   "outputs": [],
   "source": []
  },
  {
   "cell_type": "code",
   "execution_count": null,
   "id": "d38afdc6",
   "metadata": {},
   "outputs": [],
   "source": []
  },
  {
   "cell_type": "code",
   "execution_count": null,
   "id": "af52d091",
   "metadata": {},
   "outputs": [],
   "source": []
  }
 ],
 "metadata": {
  "kernelspec": {
   "display_name": "Python 3",
   "language": "python",
   "name": "python3"
  },
  "language_info": {
   "codemirror_mode": {
    "name": "ipython",
    "version": 3
   },
   "file_extension": ".py",
   "mimetype": "text/x-python",
   "name": "python",
   "nbconvert_exporter": "python",
   "pygments_lexer": "ipython3",
   "version": "3.8.8"
  }
 },
 "nbformat": 4,
 "nbformat_minor": 5
}
