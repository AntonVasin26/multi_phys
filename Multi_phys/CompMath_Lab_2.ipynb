{
 "cells": [
  {
   "cell_type": "code",
   "execution_count": 7,
   "id": "43802645",
   "metadata": {},
   "outputs": [],
   "source": [
    "import numpy as np\n",
    "import pandas as pd\n",
    "import sympy as sp\n",
    "import matplotlib.pyplot as plt\n",
    "import tkinter as tk"
   ]
  },
  {
   "cell_type": "code",
   "execution_count": 8,
   "id": "fb466aa4",
   "metadata": {},
   "outputs": [],
   "source": [
    "def pl_N(lx,ly):\n",
    "    x = inputdata[0]\n",
    "    y = inputdata[1]\n",
    "    n = len(y)\n",
    "    B = [inputdata[1]]\n",
    "    b = [y[0]]\n",
    "    for i in range(1, n):\n",
    "        B.append([])\n",
    "        for j in range(n - i):\n",
    "            f_n = (B[i-1][j+1] - B[i-1][j])/(x[j+i] - x[j])\n",
    "            B[i].append(f_n)\n",
    "        b.append(B[i][0])\n",
    "    \n",
    "    K_P = [[1.0]]\n",
    "    for i in range(0,n-1):\n",
    "        vtr1 = np.array(K_P[i])\n",
    "        vtr2 = np.array(K_P[i])\n",
    "        vtr1 = np.insert(vtr1,0,0)\n",
    "        vtr2 = np.append(vtr2,0)\n",
    "        row = vtr1 - vtr2 * x[i]\n",
    "        K_P.append(row)\n",
    "        \n",
    "    P =[]\n",
    "    for i in range(0,n):\n",
    "        c = 0.0\n",
    "        for j in range(i,n):\n",
    "            c = c + b[j]*K_P[j][i]\n",
    "        P.append(c)\n",
    "    pd.DataFrame(P, index = (\"x^0\",\"x^1\",\"x^2\",\"x^3\",\"x^4\",\"x^5\"))\n",
    "    P.reverse()\n",
    "    return(P)     "
   ]
  },
  {
   "cell_type": "markdown",
   "id": "e4e37e5c",
   "metadata": {},
   "source": [
    "# Лабораторная работа 2\n",
    "\n",
    "## Васин Антон - Вариант 11"
   ]
  },
  {
   "cell_type": "code",
   "execution_count": 53,
   "id": "a51c5120",
   "metadata": {},
   "outputs": [
    {
     "data": {
      "text/html": [
       "<div>\n",
       "<style scoped>\n",
       "    .dataframe tbody tr th:only-of-type {\n",
       "        vertical-align: middle;\n",
       "    }\n",
       "\n",
       "    .dataframe tbody tr th {\n",
       "        vertical-align: top;\n",
       "    }\n",
       "\n",
       "    .dataframe thead th {\n",
       "        text-align: right;\n",
       "    }\n",
       "</style>\n",
       "<table border=\"1\" class=\"dataframe\">\n",
       "  <thead>\n",
       "    <tr style=\"text-align: right;\">\n",
       "      <th></th>\n",
       "      <th>1</th>\n",
       "      <th>2</th>\n",
       "      <th>3</th>\n",
       "      <th>4</th>\n",
       "      <th>5</th>\n",
       "      <th>6</th>\n",
       "    </tr>\n",
       "  </thead>\n",
       "  <tbody>\n",
       "    <tr>\n",
       "      <th>X</th>\n",
       "      <td>0.87287</td>\n",
       "      <td>1.22173</td>\n",
       "      <td>1.57080</td>\n",
       "      <td>1.91986</td>\n",
       "      <td>2.26893</td>\n",
       "      <td>2.61799</td>\n",
       "    </tr>\n",
       "    <tr>\n",
       "      <th>Y</th>\n",
       "      <td>0.00161</td>\n",
       "      <td>0.01550</td>\n",
       "      <td>0.09139</td>\n",
       "      <td>0.39329</td>\n",
       "      <td>1.35729</td>\n",
       "      <td>3.97819</td>\n",
       "    </tr>\n",
       "  </tbody>\n",
       "</table>\n",
       "</div>"
      ],
      "text/plain": [
       "         1        2        3        4        5        6\n",
       "X  0.87287  1.22173  1.57080  1.91986  2.26893  2.61799\n",
       "Y  0.00161  0.01550  0.09139  0.39329  1.35729  3.97819"
      ]
     },
     "execution_count": 53,
     "metadata": {},
     "output_type": "execute_result"
    }
   ],
   "source": [
    "inputdata = [[0.87287,1.22173,1.57080,1.91986,2.26893,2.61799],[0.00161,0.01550,0.09139,0.39329,1.35729,3.97819]]\n",
    "pd.DataFrame(inputdata, columns=[\"1\",\"2\",\"3\",\"4\",\"5\",\"6\"], index=[\"X\",\"Y\"])"
   ]
  },
  {
   "cell_type": "markdown",
   "id": "93a7dd6f",
   "metadata": {},
   "source": [
    "## Определим Коэффициенты полинома Ньютона $b_1"
   ]
  },
  {
   "cell_type": "code",
   "execution_count": 54,
   "id": "df29a6ba",
   "metadata": {},
   "outputs": [
    {
     "data": {
      "text/html": [
       "<div>\n",
       "<style scoped>\n",
       "    .dataframe tbody tr th:only-of-type {\n",
       "        vertical-align: middle;\n",
       "    }\n",
       "\n",
       "    .dataframe tbody tr th {\n",
       "        vertical-align: top;\n",
       "    }\n",
       "\n",
       "    .dataframe thead th {\n",
       "        text-align: right;\n",
       "    }\n",
       "</style>\n",
       "<table border=\"1\" class=\"dataframe\">\n",
       "  <thead>\n",
       "    <tr style=\"text-align: right;\">\n",
       "      <th></th>\n",
       "      <th>indexs</th>\n",
       "    </tr>\n",
       "  </thead>\n",
       "  <tbody>\n",
       "    <tr>\n",
       "      <th>b0</th>\n",
       "      <td>0.001610</td>\n",
       "    </tr>\n",
       "    <tr>\n",
       "      <th>b1</th>\n",
       "      <td>0.039815</td>\n",
       "    </tr>\n",
       "    <tr>\n",
       "      <th>b2</th>\n",
       "      <td>0.254454</td>\n",
       "    </tr>\n",
       "    <tr>\n",
       "      <th>b3</th>\n",
       "      <td>0.642802</td>\n",
       "    </tr>\n",
       "    <tr>\n",
       "      <th>b4</th>\n",
       "      <td>0.763546</td>\n",
       "    </tr>\n",
       "    <tr>\n",
       "      <th>b5</th>\n",
       "      <td>0.461142</td>\n",
       "    </tr>\n",
       "  </tbody>\n",
       "</table>\n",
       "</div>"
      ],
      "text/plain": [
       "      indexs\n",
       "b0  0.001610\n",
       "b1  0.039815\n",
       "b2  0.254454\n",
       "b3  0.642802\n",
       "b4  0.763546\n",
       "b5  0.461142"
      ]
     },
     "execution_count": 54,
     "metadata": {},
     "output_type": "execute_result"
    }
   ],
   "source": [
    "x = inputdata[0]\n",
    "y = inputdata[1]\n",
    "n = len(y)\n",
    "B = [inputdata[1]]\n",
    "b = [y[0]]\n",
    "for i in range(1, n):\n",
    "    B.append([])\n",
    "    for j in range(n - i):\n",
    "        f_n = (B[i-1][j+1] - B[i-1][j])/(x[j+i] - x[j])\n",
    "        B[i].append(f_n)\n",
    "    b.append(B[i][0])\n",
    "pd.DataFrame(b,index = [\"b0\",\"b1\",\"b2\",\"b3\",\"b4\",\"b5\"], columns = [\"indexs\"])\n",
    "#print(*b, sep = \";  \")"
   ]
  },
  {
   "cell_type": "markdown",
   "id": "43f0292a",
   "metadata": {},
   "source": [
    "## Определим коэфициенты полинома"
   ]
  },
  {
   "cell_type": "code",
   "execution_count": 55,
   "id": "21b67f84",
   "metadata": {},
   "outputs": [
    {
     "data": {
      "text/html": [
       "<div>\n",
       "<style scoped>\n",
       "    .dataframe tbody tr th:only-of-type {\n",
       "        vertical-align: middle;\n",
       "    }\n",
       "\n",
       "    .dataframe tbody tr th {\n",
       "        vertical-align: top;\n",
       "    }\n",
       "\n",
       "    .dataframe thead th {\n",
       "        text-align: right;\n",
       "    }\n",
       "</style>\n",
       "<table border=\"1\" class=\"dataframe\">\n",
       "  <thead>\n",
       "    <tr style=\"text-align: right;\">\n",
       "      <th></th>\n",
       "      <th>$x^5$</th>\n",
       "      <th>$x^4$</th>\n",
       "      <th>$x^3$</th>\n",
       "      <th>$x^2$</th>\n",
       "      <th>$x^1$</th>\n",
       "      <th>$x^0$</th>\n",
       "    </tr>\n",
       "  </thead>\n",
       "  <tbody>\n",
       "    <tr>\n",
       "      <th>$b_0$</th>\n",
       "      <td>1.000000</td>\n",
       "      <td>NaN</td>\n",
       "      <td>NaN</td>\n",
       "      <td>NaN</td>\n",
       "      <td>NaN</td>\n",
       "      <td>NaN</td>\n",
       "    </tr>\n",
       "    <tr>\n",
       "      <th>$b_1$</th>\n",
       "      <td>-0.872870</td>\n",
       "      <td>1.000000</td>\n",
       "      <td>NaN</td>\n",
       "      <td>NaN</td>\n",
       "      <td>NaN</td>\n",
       "      <td>NaN</td>\n",
       "    </tr>\n",
       "    <tr>\n",
       "      <th>$b_2$</th>\n",
       "      <td>1.066411</td>\n",
       "      <td>-2.094600</td>\n",
       "      <td>1.000000</td>\n",
       "      <td>NaN</td>\n",
       "      <td>NaN</td>\n",
       "      <td>NaN</td>\n",
       "    </tr>\n",
       "    <tr>\n",
       "      <th>$b_3$</th>\n",
       "      <td>-1.675119</td>\n",
       "      <td>4.356609</td>\n",
       "      <td>-3.665400</td>\n",
       "      <td>1.000000</td>\n",
       "      <td>NaN</td>\n",
       "      <td>NaN</td>\n",
       "    </tr>\n",
       "    <tr>\n",
       "      <th>$b_4$</th>\n",
       "      <td>3.215994</td>\n",
       "      <td>-10.039199</td>\n",
       "      <td>11.393664</td>\n",
       "      <td>-5.585260</td>\n",
       "      <td>1.00000</td>\n",
       "      <td>NaN</td>\n",
       "    </tr>\n",
       "    <tr>\n",
       "      <th>$b_5$</th>\n",
       "      <td>-7.296866</td>\n",
       "      <td>25.994233</td>\n",
       "      <td>-35.890625</td>\n",
       "      <td>24.066228</td>\n",
       "      <td>-7.85419</td>\n",
       "      <td>1.0</td>\n",
       "    </tr>\n",
       "  </tbody>\n",
       "</table>\n",
       "</div>"
      ],
      "text/plain": [
       "          $x^5$      $x^4$      $x^3$      $x^2$    $x^1$  $x^0$\n",
       "$b_0$  1.000000        NaN        NaN        NaN      NaN    NaN\n",
       "$b_1$ -0.872870   1.000000        NaN        NaN      NaN    NaN\n",
       "$b_2$  1.066411  -2.094600   1.000000        NaN      NaN    NaN\n",
       "$b_3$ -1.675119   4.356609  -3.665400   1.000000      NaN    NaN\n",
       "$b_4$  3.215994 -10.039199  11.393664  -5.585260  1.00000    NaN\n",
       "$b_5$ -7.296866  25.994233 -35.890625  24.066228 -7.85419    1.0"
      ]
     },
     "execution_count": 55,
     "metadata": {},
     "output_type": "execute_result"
    }
   ],
   "source": [
    "K_P = [[1.0]]\n",
    "for i in range(0,n-1):\n",
    "    vtr1 = np.array(K_P[i])\n",
    "    vtr2 = np.array(K_P[i])\n",
    "    vtr1 = np.insert(vtr1,0,0)\n",
    "    vtr2 = np.append(vtr2,0)\n",
    "    row = vtr1 - vtr2 * x[i]\n",
    "    #print(*row)\n",
    "    K_P.append(row)\n",
    "pd.DataFrame(K_P, columns = (\"$x^5$\",\"$x^4$\",\"$x^3$\",\"$x^2$\",\"$x^1$\",\"$x^0$\"),\n",
    "             index = [\"$b_0$\",\"$b_1$\",\"$b_2$\",\"$b_3$\",\"$b_4$\",\"$b_5$\"]) "
   ]
  },
  {
   "cell_type": "code",
   "execution_count": 56,
   "id": "eef411e5",
   "metadata": {},
   "outputs": [
    {
     "data": {
      "text/html": [
       "<div>\n",
       "<style scoped>\n",
       "    .dataframe tbody tr th:only-of-type {\n",
       "        vertical-align: middle;\n",
       "    }\n",
       "\n",
       "    .dataframe tbody tr th {\n",
       "        vertical-align: top;\n",
       "    }\n",
       "\n",
       "    .dataframe thead th {\n",
       "        text-align: right;\n",
       "    }\n",
       "</style>\n",
       "<table border=\"1\" class=\"dataframe\">\n",
       "  <thead>\n",
       "    <tr style=\"text-align: right;\">\n",
       "      <th></th>\n",
       "      <th>0</th>\n",
       "    </tr>\n",
       "  </thead>\n",
       "  <tbody>\n",
       "    <tr>\n",
       "      <th>$x^5$</th>\n",
       "      <td>0.461142</td>\n",
       "    </tr>\n",
       "    <tr>\n",
       "      <th>$x^4$</th>\n",
       "      <td>-2.858353</td>\n",
       "    </tr>\n",
       "    <tr>\n",
       "      <th>$x^3$</th>\n",
       "      <td>7.476153</td>\n",
       "    </tr>\n",
       "    <tr>\n",
       "      <th>$x^2$</th>\n",
       "      <td>-9.952768</td>\n",
       "    </tr>\n",
       "    <tr>\n",
       "      <th>$x^1$</th>\n",
       "      <td>6.628922</td>\n",
       "    </tr>\n",
       "    <tr>\n",
       "      <th>$x^0$</th>\n",
       "      <td>-1.747894</td>\n",
       "    </tr>\n",
       "  </tbody>\n",
       "</table>\n",
       "</div>"
      ],
      "text/plain": [
       "              0\n",
       "$x^5$  0.461142\n",
       "$x^4$ -2.858353\n",
       "$x^3$  7.476153\n",
       "$x^2$ -9.952768\n",
       "$x^1$  6.628922\n",
       "$x^0$ -1.747894"
      ]
     },
     "execution_count": 56,
     "metadata": {},
     "output_type": "execute_result"
    }
   ],
   "source": [
    "P =[]\n",
    "for i in range(0,n):\n",
    "    c = 0.0\n",
    "    for j in range(i,n):\n",
    "        c = c + b[j]*K_P[j][i]\n",
    "    P.append(c)\n",
    "P.reverse()\n",
    "pd.DataFrame(P, index = (\"$x^5$\",\"$x^4$\",\"$x^3$\",\"$x^2$\",\"$x^1$\",\"$x^0$\"))"
   ]
  },
  {
   "cell_type": "code",
   "execution_count": 57,
   "id": "00d57894",
   "metadata": {},
   "outputs": [
    {
     "name": "stdout",
     "output_type": "stream",
     "text": [
      "0.09139000000000852\n",
      "0.09139000000000852\n",
      "0.09139000000000852\n",
      "0.09139000000000852\n",
      "0.09139000000000852\n",
      "0.09139000000000852\n"
     ]
    }
   ],
   "source": [
    "for x_k in x:\n",
    "    x_k = 1.5708\n",
    "    y_k = 0\n",
    "    for i in range(6):\n",
    "        y_k +=P[i] * x_k **(5-i)\n",
    "    print(y_k)\n",
    "    "
   ]
  },
  {
   "cell_type": "markdown",
   "id": "69fdaa8e",
   "metadata": {},
   "source": [
    "## Построение графика многочлена"
   ]
  },
  {
   "cell_type": "code",
   "execution_count": 58,
   "id": "1f583df3",
   "metadata": {},
   "outputs": [
    {
     "data": {
      "image/png": "[encoded data removed]",
      "text/plain": [
       "<Figure size 864x576 with 1 Axes>"
      ]
     },
     "metadata": {
      "needs_background": "light"
     },
     "output_type": "display_data"
    }
   ],
   "source": [
    "x_s = np.linspace(x[0], x[-1], 500)\n",
    "\n",
    "plt.figure(figsize=(12, 8))\n",
    "plt.plot(x_s, np.polyval(P, x_s))\n",
    "plt.xlabel('$x$', fontsize=18)\n",
    "plt.ylabel(f'$P_{len(x) - 1}(x)$', fontsize=18)\n",
    "plt.grid()"
   ]
  },
  {
   "cell_type": "markdown",
   "id": "bb05b452",
   "metadata": {},
   "source": [
    "## Вычисление сплайнов"
   ]
  },
  {
   "cell_type": "code",
   "execution_count": 59,
   "id": "235afb5d",
   "metadata": {},
   "outputs": [],
   "source": [
    "def Splain(i,p):\n",
    "    P_i = np.polyval(p, x[i])\n",
    "    P_i1 = np.polyval(p, x[i+1])\n",
    "    \n",
    "    p_d = np.polyder(p)\n",
    "    dP_i = np.polyval(p_d, x[i])\n",
    "    dP_i1 = np.polyval(p_d, x[i+1])\n",
    "    \n",
    "    a_3 = (dP_i1*(x[i+1] - x[i]) - 2*(y[i+1] - y[i]) + dP_i*(x[i+1] - x[i])) / (x[i+1] - x[i])**3\n",
    "    a_2 = (-dP_i1*(x[i+1] - x[i])*(x[i+1] + 2*x[i]) + 3*(y[i+1] - y[i])*(x[i+1] + x[i])\n",
    "           - dP_i*(x[i+1] - x[i])*(x[i] + 2*x[i+1])) / (x[i+1] - x[i])**3\n",
    "    a_1 = (dP_i1*x[i]*(2*x[i+1] + x[i])*(x[i+1] - x[i]) - 6*(y[i+1] - y[i])*x[i]*x[i+1]\n",
    "           + dP_i*x[i+1]*(x[i+1] + 2*x[i])*(x[i+1] - x[i])) / (x[i+1] - x[i])**3\n",
    "    a_0 = (-dP_i1*(x[i]**2)*x[i+1]*(x[i+1] - x[i]) + y[i+1]*(x[i]**2)*(3*x[i+1] - x[i])\n",
    "           + y[i]*(x[i+1]**2)*(x[i+1] - 3*x[i]) - dP_i*x[i]*(x[i+1]**2)*(x[i+1] - x[i])) / (x[i+1] - x[i])**3\n",
    "\n",
    "    return np.array([a_3, a_2, a_1, a_0])"
   ]
  },
  {
   "cell_type": "code",
   "execution_count": 60,
   "id": "82cf27a8",
   "metadata": {},
   "outputs": [],
   "source": [
    "V_Sp = []\n",
    "for i in range(len(x) - 1):\n",
    "    V_Sp.append(Splain(i,P))\n",
    "V_Sp = np.array(V_Sp)"
   ]
  },
  {
   "cell_type": "markdown",
   "id": "1ad354a4",
   "metadata": {},
   "source": [
    "## Построим График сплайнов и Полинома Ньютона"
   ]
  },
  {
   "cell_type": "code",
   "execution_count": 61,
   "id": "bed4f17d",
   "metadata": {},
   "outputs": [
    {
     "data": {
      "image/png": "[encoded data removed]",
      "text/plain": [
       "<Figure size 864x576 with 1 Axes>"
      ]
     },
     "metadata": {
      "needs_background": "light"
     },
     "output_type": "display_data"
    }
   ],
   "source": [
    "x_p = np.linspace(x[0], x[-1], 250)\n",
    "x_s = []\n",
    "for i in range(1, len(x)):\n",
    "    x_s.append(np.linspace(x[i-1], x[i], 50))\n",
    "\n",
    "fig, ax = plt.subplots(figsize=(12, 8))\n",
    "ax.plot(x_p, np.polyval(P, x_p), label='Полином Ньютона')\n",
    "for i in range(len(x)-1):\n",
    "    ax.plot(x_s[i], np.polyval(V_Sp[i], x_s[i]), label=f'$S_{i+1}(x)$')\n",
    "    \n",
    "ax.legend(fontsize=12)\n",
    "ax.grid()\n"
   ]
  },
  {
   "cell_type": "code",
   "execution_count": null,
   "id": "7f9ecdce",
   "metadata": {},
   "outputs": [],
   "source": []
  },
  {
   "cell_type": "code",
   "execution_count": null,
   "id": "5febc9e8",
   "metadata": {},
   "outputs": [],
   "source": []
  },
  {
   "cell_type": "code",
   "execution_count": null,
   "id": "cc2d0011",
   "metadata": {},
   "outputs": [],
   "source": []
  },
  {
   "cell_type": "code",
   "execution_count": null,
   "id": "3018756d",
   "metadata": {},
   "outputs": [],
   "source": []
  }
 ],
 "metadata": {
  "kernelspec": {
   "display_name": "Python 3",
   "language": "python",
   "name": "python3"
  },
  "language_info": {
   "codemirror_mode": {
    "name": "ipython",
    "version": 3
   },
   "file_extension": ".py",
   "mimetype": "text/x-python",
   "name": "python",
   "nbconvert_exporter": "python",
   "pygments_lexer": "ipython3",
   "version": "3.8.8"
  }
 },
 "nbformat": 4,
 "nbformat_minor": 5
}
